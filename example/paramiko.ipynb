{
 "cells": [
  {
   "cell_type": "markdown",
   "metadata": {},
   "source": [
    "以下範例示範如何使用 Paramiko 同時建立一個簡易的 SSH Server（接受 client 端傳來的指令並在本機執行）和一個 SSH Client（收到任務完成後連回 Server 執行 Windows 的 MSG 通知指令）。"
   ]
  },
  {
   "cell_type": "markdown",
   "metadata": {},
   "source": [
    "### 1. 安裝 Paramiko\n",
    "```bash\n",
    "pip install paramiko\n",
    "```"
   ]
  },
  {
   "cell_type": "markdown",
   "metadata": {},
   "source": [
    "### 2. 生成伺服器金鑰\n",
    "\n",
    "在伺服器主機上執行：\n",
    "```bash\n",
    "ssh-keygen -t rsa -b 2048 -f server_host_rsa.key\n",
    "```\n",
    "這會產生 `server_host_rsa.key`（私鑰）和 `server_host_rsa.key.pub`（公鑰）。"
   ]
  },
  {
   "cell_type": "markdown",
   "metadata": {},
   "source": [
    "### 3. Server 程式 (server.py)"
   ]
  },
  {
   "cell_type": "code",
   "execution_count": null,
   "metadata": {},
   "outputs": [],
   "source": [
    "#!/usr/bin/env python3\n",
    "import socket\n",
    "import threading\n",
    "import sys\n",
    "import subprocess\n",
    "import logging\n",
    "import paramiko\n",
    "\n",
    "logging.basicConfig(level=logging.INFO)\n",
    "host_key = paramiko.RSAKey(filename=sys.argv[1])\n",
    "\n",
    "\n",
    "class SSHServer(paramiko.ServerInterface):\n",
    "    def __init__(self):\n",
    "        self.event = threading.Event()\n",
    "\n",
    "    # 開放 Session channel\n",
    "    def check_channel_request(self, kind, chanid):\n",
    "        if kind == \"session\":\n",
    "            return paramiko.OPEN_SUCCEEDED\n",
    "        return paramiko.OPEN_FAILED_ADMINISTRATIVELY_PROHIBITED\n",
    "\n",
    "    # 啟用密碼驗證\n",
    "    def get_allowed_auths(self, username):\n",
    "        return \"password\"\n",
    "\n",
    "    def check_auth_password(self, username, password):\n",
    "        # 簡單示範：固定帳密\n",
    "        if username == \"myuser\" and password == \"mypassword\":\n",
    "            return paramiko.AUTH_SUCCESSFUL\n",
    "        return paramiko.AUTH_FAILED\n",
    "\n",
    "    # 接收到 exec request 時觸發\n",
    "    def check_channel_exec_request(self, channel, command):\n",
    "        logging.info(f\"收到指令：{command}\")\n",
    "        try:\n",
    "            out = subprocess.check_output(command, shell=True)\n",
    "            channel.send(out)\n",
    "            channel.send_exit_status(0)\n",
    "        except Exception as e:\n",
    "            channel.send(str(e).encode())\n",
    "            channel.send_exit_status(1)\n",
    "        return True\n",
    "\n",
    "\n",
    "def start_server(host=\"0.0.0.0\", port=2200):\n",
    "    sock = socket.socket()\n",
    "    sock.setsockopt(socket.SOL_SOCKET, socket.SO_REUSEADDR, 1)\n",
    "    sock.bind((host, port))\n",
    "    sock.listen(100)\n",
    "    logging.info(f\"伺服器啟動，監聽 {host}:{port}\")\n",
    "    client, addr = sock.accept()\n",
    "    logging.info(f\"來自 {addr} 的連線\")\n",
    "\n",
    "    transport = paramiko.Transport(client)\n",
    "    transport.add_server_key(host_key)\n",
    "    server = SSHServer()\n",
    "    transport.start_server(server=server)\n",
    "\n",
    "    # 等待 client exec\n",
    "    chan = transport.accept(20)\n",
    "    if chan is None:\n",
    "        logging.warning(\"Channel 建立失敗\")\n",
    "    transport.close()\n",
    "\n",
    "\n",
    "if __name__ == \"__main__\":\n",
    "    if len(sys.argv) != 2:\n",
    "        print(\"用法：python server.py <host_key>\")\n",
    "        sys.exit(1)\n",
    "    start_server()\n"
   ]
  },
  {
   "cell_type": "markdown",
   "metadata": {},
   "source": [
    "> 這段程式改編自 “sample paramiko SSH server to receive commands” 範例 [Gist](https://gist.github.com/cschwede/3e2c025408ab4af531651098331cce45)。\n",
    "\n",
    "執行方式：\n",
    "```bash\n",
    "python server.py server_host_rsa.key\n",
    "```"
   ]
  },
  {
   "cell_type": "markdown",
   "metadata": {},
   "source": [
    "### 4. Client 程式 (client.py)"
   ]
  },
  {
   "cell_type": "code",
   "execution_count": null,
   "metadata": {},
   "outputs": [],
   "source": [
    "import paramiko\n",
    "\n",
    "host = \"YOUR_SERVER_IP\"\n",
    "port = 2200\n",
    "username = \"myuser\"\n",
    "password = \"mypassword\"\n",
    "\n",
    "client = paramiko.SSHClient()\n",
    "client.set_missing_host_key_policy(paramiko.AutoAddPolicy())\n",
    "client.connect(host, port=port, username=username, password=password)\n",
    "\n",
    "# 任務完成後執行 Windows MSG 通知\n",
    "cmd = 'msg * \"任務已完成\"'\n",
    "stdin, stdout, stderr = client.exec_command(cmd)\n",
    "\n",
    "# 輸出伺服器回傳（可選）\n",
    "print(stdout.read().decode(), stderr.read().decode())\n",
    "\n",
    "client.close()"
   ]
  },
  {
   "cell_type": "markdown",
   "metadata": {},
   "source": [
    "> 使用 Paramiko 的 SSHClient 執行遠端命令範例 [Akamai](https://www.linode.com/docs/guides/use-paramiko-python-to-ssh-into-a-server/?utm_source=chatgpt.com)。"
   ]
  },
  {
   "cell_type": "markdown",
   "metadata": {},
   "source": [
    "### 5. 執行流程說明\n",
    "\n",
    "1. 啟動 Server：在伺服器機器執行 `python server.py server_host_rsa.key`。\n",
    "  \n",
    "2. Client 發起連線：任務完成時，執行 `python client.py`，透過 SSH 連回 Server。  \n",
    "\n",
    "3. Server 收到 exec 指令：`check_channel_exec_request` 會被呼叫並執行傳入的指令（此例為 `msg * ...`）。  \n",
    "\n",
    "4. 使用者端彈出訊息：Windows 會跳出對話框顯示「任務已完成」。"
   ]
  },
  {
   "cell_type": "markdown",
   "metadata": {},
   "source": [
    "### 6. 注意事項\n",
    "\n",
    "- 確保 Server 防火牆開啟對應的 Port（範例為 2200）。\n",
    "\n",
    "- 執行 `msg` 指令需具備對應權限（在 Windows 上通常要以系統或 Administrator 身份執行 SSH Server）。\n",
    "\n",
    "- 若需更安全的身分驗證，可改用公鑰認證，只要覆寫 `check_auth_publickey` 並在 `get_allowed_auths` 回傳 `'publickey'` 即可。\n",
    "\n",
    "- Paramiko Server 功能適合測試或內部工具，正式環境建議使用 OpenSSH 等成熟方案。\n"
   ]
  },
  {
   "cell_type": "markdown",
   "metadata": {},
   "source": [
    "---\n",
    "以上範例可作為骨架，依需求再擴充錯誤處理、並發連線或更完善的驗證機制。祝順利！"
   ]
  }
 ],
 "metadata": {
  "kernelspec": {
   "display_name": "Python 3",
   "language": "python",
   "name": "python3"
  },
  "language_info": {
   "name": "python",
   "version": "3.11.11"
  }
 },
 "nbformat": 4,
 "nbformat_minor": 2
}
