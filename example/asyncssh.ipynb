{
 "cells": [
  {
   "cell_type": "markdown",
   "metadata": {
    "vscode": {
     "languageId": "plaintext"
    }
   },
   "source": [
    "下面提供一個以 AsyncSSH 為核心的範例，示範如何用 Python 同時當作 SSH Server 與 Client，並在 Client 執行完工作後，經由 SSH 將訊息傳到 Server，上面再呼叫 Windows 內建的 msg 命令通知使用者。"
   ]
  },
  {
   "cell_type": "markdown",
   "metadata": {
    "vscode": {
     "languageId": "plaintext"
    }
   },
   "source": [
    "### 一、安裝套件\n",
    "```bash\n",
    "pip install asyncssh\n",
    "```"
   ]
  },
  {
   "cell_type": "markdown",
   "metadata": {
    "vscode": {
     "languageId": "plaintext"
    }
   },
   "source": [
    "### 二、產生 Server Host Key\n",
    "> 注意：Server 需要一組金鑰讓客戶端驗證身分。\n",
    "```bash\n",
    "ssh-keygen -t rsa -b 2048 -f host_key\n",
    "# 會產生：host_key (私鑰) 以及 host_key.pub (公鑰)\n",
    "```"
   ]
  },
  {
   "cell_type": "markdown",
   "metadata": {
    "vscode": {
     "languageId": "plaintext"
    }
   },
   "source": [
    "### 三、Server 端（server.py）"
   ]
  },
  {
   "cell_type": "code",
   "execution_count": null,
   "metadata": {},
   "outputs": [],
   "source": [
    "# server.py\n",
    "import asyncio\n",
    "import asyncssh\n",
    "import subprocess\n",
    "import sys\n",
    "\n",
    "\n",
    "class NotifySSHServerSession(asyncssh.SSHServerSession):\n",
    "    def __init__(self):\n",
    "        self._buffer = \"\"\n",
    "\n",
    "    def data_received(self, data, datatype):\n",
    "        # 收到 client 傳來的訊息\n",
    "        self._buffer += data\n",
    "\n",
    "    def eof_received(self):\n",
    "        # 收到結尾，執行 Windows MSG 通知\n",
    "        # 注意：需在 Server 主機上有權限執行 msg\n",
    "        subprocess.call([\"msg\", \"*\", self._buffer.strip()])\n",
    "        return True\n",
    "\n",
    "\n",
    "async def start_server():\n",
    "    await asyncssh.create_server(\n",
    "        # Session handler\n",
    "        lambda: NotifySSHServerSession(),\n",
    "        \"\",  # listen on all interfaces\n",
    "        8022,  # port 可自訂\n",
    "        server_host_keys=[\"host_key\"],  # 你的 host key 檔案\n",
    "        # 以下可加上更嚴格的認證機制\n",
    "        username=\"your_user\",\n",
    "        password=\"your_password\",\n",
    "    )\n",
    "\n",
    "\n",
    "if __name__ == \"__main__\":\n",
    "    try:\n",
    "        loop = asyncio.get_event_loop()\n",
    "        loop.run_until_complete(start_server())\n",
    "        print(\"SSH Server ready on port 8022\")\n",
    "        loop.run_forever()\n",
    "    except (OSError, asyncssh.Error) as exc:\n",
    "        sys.exit(f\"Error starting SSH server: {exc}\")\n"
   ]
  },
  {
   "cell_type": "markdown",
   "metadata": {},
   "source": [
    "- 重點說明\n",
    "    - NotifySSHServerSession.data_received：收取來自 Client 的所有文字訊息。\n",
    "    - eof_received：當接收到 EOF 時，自動呼叫 msg * <訊息>，將文字掛到 Windows 訊息系統上。\n",
    "    - 你可以在 create_server 裡，改成使用公私鑰對（client_public_keys），或是更複雜的認證機制。"
   ]
  },
  {
   "cell_type": "markdown",
   "metadata": {},
   "source": [
    "### 四、Client 端（client.py）"
   ]
  },
  {
   "cell_type": "code",
   "execution_count": null,
   "metadata": {},
   "outputs": [],
   "source": [
    "# client.py\n",
    "import asyncio\n",
    "import asyncssh\n",
    "import sys\n",
    "\n",
    "\n",
    "async def notify_server(host, port, username, password, message):\n",
    "    async with asyncssh.connect(\n",
    "        host,\n",
    "        port=port,\n",
    "        username=username,\n",
    "        password=password,\n",
    "        known_hosts=None,  # 若不想驗 host key，可先這樣；正式環境請改成正確驗證\n",
    "    ) as conn:\n",
    "        # 直接將 message 發到 server 端 Session\n",
    "        chan, session = await conn.create_session(\n",
    "            asyncssh.SSHClientSession, term_type=None\n",
    "        )\n",
    "        chan.write(message)\n",
    "        chan.write_eof()  # 通知 server 已傳送完畢\n",
    "\n",
    "\n",
    "if __name__ == \"__main__\":\n",
    "    if len(sys.argv) < 6:\n",
    "        print('Usage: python client.py <host> <port> <user> <pass> <\"your message\">')\n",
    "        sys.exit(1)\n",
    "\n",
    "    _, host, port, user, pwd, msg = sys.argv\n",
    "    asyncio.get_event_loop().run_until_complete(\n",
    "        notify_server(host, int(port), user, pwd, msg)\n",
    "    )\n",
    "    print(\"訊息已發送給 Server\")\n"
   ]
  },
  {
   "cell_type": "markdown",
   "metadata": {},
   "source": [
    "使用方式\n",
    "\n",
    "```bash\n",
    "python client.py 192.168.1.100 8022 your_user your_password \"工作已完成！\"\n",
    "```"
   ]
  },
  {
   "cell_type": "markdown",
   "metadata": {},
   "source": [
    "### 五、完整流程\n",
    "\n",
    "1. Server：\n",
    "   - 啟動 `python server.py`，在指定埠（預設 8022）監聽 SSH 要求。\n",
    "   - 確保防火牆開放該埠，且 Windows 能執行 `msg`。\n",
    "2. Client：\n",
    "   - 完成某項工作後，呼叫 `python client.py … \"你的通知文字\"`，透過 SSH 把文字傳到 Server。\n",
    "   - Server 收到 EOF 後，直接執行 `msg * <文字>`，桌面上就會跳出訊息通知。"
   ]
  },
  {
   "cell_type": "markdown",
   "metadata": {},
   "source": [
    "---\n",
    "這套架構簡單、易擴充，你也可以改用 Paramiko 或將認證改成金鑰模式、加入 TLS 隧道、或在訊息中夾帶檔案做更複雜的資料傳遞。若有其他問題，隨時再討論！"
   ]
  }
 ],
 "metadata": {
  "kernelspec": {
   "display_name": "Python 3",
   "language": "python",
   "name": "python3"
  },
  "language_info": {
   "name": "python",
   "version": "3.11.11"
  }
 },
 "nbformat": 4,
 "nbformat_minor": 2
}
